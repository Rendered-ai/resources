{
 "cells": [
  {
   "cell_type": "markdown",
   "id": "603f3ab7",
   "metadata": {},
   "source": [
    "# Getting started with Rendered.ai Graphs\n",
    "\n",
    "Objective: Learn about how to access and use Graphs with the SDK. To follow along, use the `default` cotent code when registering on the Platform or create a new workspace with this code.\n",
    "\n",
    "Reference the latest SDK Documentation at https://sdk.rendered.ai"
   ]
  },
  {
   "cell_type": "markdown",
   "id": "1e00132f",
   "metadata": {},
   "source": [
    "## Graphs\n",
    "\n",
    "A Graph is a visual representation of the elements (capabilities, objects, modifiers) and their relationships that compose an application. Jobs are created from Staged Graphs to create synthetic data. To learn more information, read through the [Terminology guide](https://support.rendered.ai/rd/Terminology.1589379085.html) or the [Creating and Using Graphs Tutorial](https://support.rendered.ai/rd/Creating-and-Using-Graphs.1577680925.html).\n",
    "\n",
    "Note that the SDK works with graphs only at the **Staged Graph** level. All graphs that get saved are staged graphs that can be used immediately to run a dataset job.\n",
    "\n",
    "All users of a workspace can:\n",
    "- View existing staged graphs of a workspace with `get_staged_graphs()`\n",
    "- Create a new staged graph or delete an existing one with `create_staged_graph()` and `delete_staged_graph()`\n",
    "- Update a staged graph's description and name with `edit_staged_graph()`\n",
    "- Download an existing staged graph with `download_staged_graph()`\n",
    "- View the default staged graph for a channel with `get_default_graph()`. This default is a good starting-off point to create a new staged graph.\n",
    "- Update the default staged graph for a managed channel with `set_default_graph()`"
   ]
  },
  {
   "cell_type": "markdown",
   "id": "5c3f3730",
   "metadata": {},
   "source": [
    "### Get the latest `anatools`"
   ]
  },
  {
   "cell_type": "code",
   "execution_count": null,
   "id": "73defe90",
   "metadata": {},
   "outputs": [],
   "source": [
    "pip install anatools --upgrade"
   ]
  },
  {
   "cell_type": "markdown",
   "id": "faca5644",
   "metadata": {},
   "source": [
    "### Set up imports and log into the SDK\n",
    "These imports are required for this Notebook to run. \n",
    "Enter your credentials at the prompts. Logging in successfully will list the organizations and workspaces you have access to."
   ]
  },
  {
   "cell_type": "code",
   "execution_count": 5,
   "id": "638c333d",
   "metadata": {},
   "outputs": [],
   "source": [
    "from zipfile import ZipFile\n",
    "from matplotlib.pyplot import imshow\n",
    "from matplotlib import pyplot as plt\n",
    "import numpy as np\n",
    "from PIL import Image\n",
    "import glob\n",
    "import json\n",
    "import pprint\n",
    "import time \n",
    "import anatools\n",
    "\n",
    "pp = pprint.PrettyPrinter(indent=4)"
   ]
  },
  {
   "cell_type": "code",
   "execution_count": 1,
   "id": "fb6b48b5",
   "metadata": {},
   "outputs": [
    {
     "name": "stdout",
     "output_type": "stream",
     "text": [
      "Enter your credentials for the Rendered.ai Platform.\n",
      "Email: email@rendered.ai\n",
      "········\n",
      "These are your organizations and workspaces:\n",
      "    default Organization                          e8af8e7e-60d3-415f-a88d-9f4e191afec4              \n",
      "\tExample                                   c721696e-648f-4572-a9ca-5dd72f1e8f58              \n",
      "The current workspaces is: c721696e-648f-4572-a9ca-5dd72f1e8f58\n"
     ]
    }
   ],
   "source": [
    "sdk = anatools.client()"
   ]
  },
  {
   "cell_type": "markdown",
   "id": "90572286",
   "metadata": {},
   "source": [
    "### View Graphs\n",
    "Use `get_staged_graphs()` to view information about the staged graphs that have been previously created in the workspace. "
   ]
  },
  {
   "cell_type": "code",
   "execution_count": 4,
   "id": "bb8cdd3b",
   "metadata": {},
   "outputs": [
    {
     "data": {
      "text/plain": [
       "[{'graphid': '70177122-0668-402b-a9c5-cdf6dea97f28',\n",
       "  'name': 'EverythingUniform',\n",
       "  'channel': '2b5e2318-83a0-487f-b15d-96bd7301ab74',\n",
       "  'user': 'email@rendered.ai',\n",
       "  'deleted': False,\n",
       "  'description': ''},\n",
       " {'graphid': 'd8d9b2e7-2cb1-401a-bc89-0e8bb9951782',\n",
       "  'name': 'Toys in Boxes',\n",
       "  'channel': '2b5e2318-83a0-487f-b15d-96bd7301ab74',\n",
       "  'user': 'email@rendered.ai',\n",
       "  'deleted': False,\n",
       "  'description': ''},\n",
       " {'graphid': 'eb8ce701-3925-4ef9-9764-d15441734301',\n",
       "  'name': 'EverythingUniform',\n",
       "  'channel': '2b5e2318-83a0-487f-b15d-96bd7301ab74',\n",
       "  'user': 'email@rendered.ai',\n",
       "  'deleted': False,\n",
       "  'description': ''}]"
      ]
     },
     "execution_count": 4,
     "metadata": {},
     "output_type": "execute_result"
    }
   ],
   "source": [
    "sdk.get_staged_graphs()"
   ]
  }
 ],
 "metadata": {
  "kernelspec": {
   "display_name": "Python 3",
   "language": "python",
   "name": "python3"
  },
  "language_info": {
   "codemirror_mode": {
    "name": "ipython",
    "version": 3
   },
   "file_extension": ".py",
   "mimetype": "text/x-python",
   "name": "python",
   "nbconvert_exporter": "python",
   "pygments_lexer": "ipython3",
   "version": "3.8.8"
  }
 },
 "nbformat": 4,
 "nbformat_minor": 5
}
