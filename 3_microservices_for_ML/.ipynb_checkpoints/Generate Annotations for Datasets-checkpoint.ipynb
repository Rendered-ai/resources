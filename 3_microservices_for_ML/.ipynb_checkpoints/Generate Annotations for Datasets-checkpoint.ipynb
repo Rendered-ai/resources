{
 "cells": [
  {
   "cell_type": "markdown",
   "id": "4f923737",
   "metadata": {},
   "source": [
    "## Generate Annotations for Datasets\n",
    "Objective: Use the Rendered.ai SDK to generate dataset annotations locally and with the Annotations Microservice."
   ]
  },
  {
   "cell_type": "markdown",
   "id": "5c3f3730",
   "metadata": {},
   "source": [
    "#### Install anatools from PyPi"
   ]
  },
  {
   "cell_type": "code",
   "execution_count": null,
   "id": "73defe90",
   "metadata": {},
   "outputs": [],
   "source": [
    "pip install anatools --upgrade"
   ]
  },
  {
   "cell_type": "markdown",
   "id": "080e5b34",
   "metadata": {},
   "source": [
    "#### Log in\n",
    "\n",
    "Enter your credentials at the prompts. Logging in successfully will list the organizations and workspaces you have access to."
   ]
  },
  {
   "cell_type": "code",
   "execution_count": null,
   "id": "fb6b48b5",
   "metadata": {},
   "outputs": [],
   "source": [
    "import anatools\n",
    "\n",
    "sdk = anatools.client()"
   ]
  },
  {
   "cell_type": "markdown",
   "id": "faca5644",
   "metadata": {},
   "source": [
    "#### Set up imports\n",
    "These imports are required for this Notebook to run."
   ]
  },
  {
   "cell_type": "code",
   "execution_count": null,
   "id": "638c333d",
   "metadata": {},
   "outputs": [],
   "source": [
    "import os\n",
    "import glob\n",
    "import yaml, json\n",
    "import wget\n",
    "import time\n",
    "from zipfile import ZipFile\n",
    "from matplotlib import pyplot as plt\n",
    "import numpy as np\n",
    "from PIL import Image\n",
    "\n",
    "pp = pprint.PrettyPrinter(indent=4)"
   ]
  },
  {
   "cell_type": "markdown",
   "id": "eab97d97",
   "metadata": {},
   "source": [
    "## Convert Annotations to a Problem Specific Format\n",
    "Rendered.ai synthetic datasets can be used with various CV model domains. The `Annotations()` anatools conversion classes are used to convert the default annotations into common formats. The current formats supported are \n",
    "- COCO\n",
    "- PASCAL VOC\n",
    "- KITTI"
   ]
  },
  {
   "cell_type": "code",
   "execution_count": null,
   "id": "69e4ce85",
   "metadata": {},
   "outputs": [],
   "source": [
    "# Download the dataset and the default object mapping files\n",
    "# Other availailable mappings can be used: https://github.com/Rendered-ai/ana/tree/main/ana/channels/example/mappings\n",
    "mappingsFileName = 'default.yml'\n",
    "if os.path.isfile(mappingsFileName):\n",
    "    print(\"Found mapping file \" + mappingsFileName)\n",
    "else:\n",
    "    download_filename = wget.download('https://raw.githubusercontent.com/Rendered-ai/ana/main/ana/channels/example/mappings/default.yml')\n",
    "    print(\"Downloaded \" + download_filename)\n",
    "\n",
    "#Create the needed annotaions directory\n",
    "kittiDir = os.path.join(dataDir, 'kitti_labels')\n",
    "if not os.path.isdir(kittiDir):\n",
    "    os.mkdir(kittiDir)\n",
    "\n",
    "# Create the annotations\n",
    "anatools.Annotations().dump_kitti(dataDir, kittiDir, mappingsFileName)\n",
    "print(\"Created KITTI Labels\")\n",
    "\n",
    "# View some kitti labels\n",
    "filename = os.listdir(os.path.join(dataDir, 'kitti_labels'))[0]\n",
    "filepath = os.path.join(dataDir, 'kitti_labels', filename)\n",
    "print(filepath)\n",
    "with open(filepath) as fin:\n",
    "    for i in range(3):\n",
    "        print(fin.readline())"
   ]
  }
 ],
 "metadata": {
  "kernelspec": {
   "display_name": "Python 3",
   "language": "python",
   "name": "python3"
  },
  "language_info": {
   "codemirror_mode": {
    "name": "ipython",
    "version": 3
   },
   "file_extension": ".py",
   "mimetype": "text/x-python",
   "name": "python",
   "nbconvert_exporter": "python",
   "pygments_lexer": "ipython3",
   "version": "3.8.8"
  }
 },
 "nbformat": 4,
 "nbformat_minor": 5
}
