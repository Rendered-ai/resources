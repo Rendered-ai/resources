{
 "cells": [
  {
   "cell_type": "markdown",
   "id": "727f06fd",
   "metadata": {},
   "source": [
    "## Domain Adaptation Jobs\n",
    "Objective: Use the Rendered.ai SDK to access and manage CycleGan Models, and kick off Domain Adaptation dataset jobs."
   ]
  },
  {
   "cell_type": "markdown",
   "id": "5c3f3730",
   "metadata": {},
   "source": [
    "#### Install anatools from PyPi"
   ]
  },
  {
   "cell_type": "code",
   "execution_count": null,
   "id": "73defe90",
   "metadata": {},
   "outputs": [],
   "source": [
    "pip install anatools --upgrade"
   ]
  },
  {
   "cell_type": "markdown",
   "id": "080e5b34",
   "metadata": {},
   "source": [
    "#### Log in\n",
    "\n",
    "Enter your credentials at the prompts. Logging in successfully will list the organizations and workspaces you have access to."
   ]
  },
  {
   "cell_type": "code",
   "execution_count": null,
   "id": "fb6b48b5",
   "metadata": {},
   "outputs": [],
   "source": [
    "import anatools\n",
    "\n",
    "sdk = anatools.client()"
   ]
  },
  {
   "cell_type": "markdown",
   "id": "faca5644",
   "metadata": {},
   "source": [
    "#### Set up imports\n",
    "These imports are required for this Notebook to run."
   ]
  },
  {
   "cell_type": "code",
   "execution_count": null,
   "id": "638c333d",
   "metadata": {},
   "outputs": [],
   "source": [
    "import os\n",
    "import glob\n",
    "import yaml, json\n",
    "import wget\n",
    "import time\n",
    "from zipfile import ZipFile\n",
    "from matplotlib import pyplot as plt\n",
    "import numpy as np\n",
    "from PIL import Image\n",
    "\n",
    "pp = pprint.PrettyPrinter(indent=4)"
   ]
  },
  {
   "cell_type": "markdown",
   "id": "ff4ca631",
   "metadata": {},
   "source": [
    "## Perform Domain Adaptation on a Dataset\n",
    "The CycleGAN models can be retrieved with `get_gan_models`.  The following use shows creating a new dataset by inferencing an existing dataset with a CycleGAN domain adaptation model."
   ]
  },
  {
   "cell_type": "markdown",
   "id": "fb153b74",
   "metadata": {},
   "source": [
    "---\n",
    "**NOTE**\n",
    "\n",
    "The Rendered.ai Domain Adaptation job type is not available to all plans.\n",
    "\n",
    "[Upgrade in your organization settings.](https://deckard.rendered.ai/organizations?menu=billing)\n",
    "\n",
    "---"
   ]
  },
  {
   "cell_type": "code",
   "execution_count": null,
   "id": "43648fe1",
   "metadata": {},
   "outputs": [],
   "source": [
    "models = sdk.get_gan_models()\n",
    "try:\n",
    "  modelData = [m for m in models if m['name']=='Airborne Roof'][0]\n",
    "except IndexError:\n",
    "  raise UserWarning('No models available')\n",
    "\n",
    "# Start the job\n",
    "ganStatusId = sdk.create_gan_dataset(modelData['modelId'], just_cubes_dataset_id)\n",
    "\n",
    "# Confirm job completion\n",
    "gan_info = sdk.get_gan_dataset(ganStatusId)\n",
    "while gan_info['status'] != 'complete':\n",
    "  time.sleep(10)\n",
    "  gan_info = sdk.get_gan_dataset(ganStatusId)\n",
    "  print(gan_info['status'])\n",
    "print(gan_info)"
   ]
  }
 ],
 "metadata": {
  "kernelspec": {
   "display_name": "Python 3",
   "language": "python",
   "name": "python3"
  },
  "language_info": {
   "codemirror_mode": {
    "name": "ipython",
    "version": 3
   },
   "file_extension": ".py",
   "mimetype": "text/x-python",
   "name": "python",
   "nbconvert_exporter": "python",
   "pygments_lexer": "ipython3",
   "version": "3.8.8"
  }
 },
 "nbformat": 4,
 "nbformat_minor": 5
}
