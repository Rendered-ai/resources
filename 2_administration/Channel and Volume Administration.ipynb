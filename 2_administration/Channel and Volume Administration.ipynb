{
 "cells": [
  {
   "cell_type": "markdown",
   "id": "571251ee",
   "metadata": {},
   "source": [
    "# Channel and Volume Administration\n",
    "\n",
    "Objective: Learn how to manage channels and volumes.\n",
    "\n",
    "Reference the latest SDK Documentation at https://sdk.rendered.ai"
   ]
  },
  {
   "cell_type": "markdown",
   "id": "5c3f3730",
   "metadata": {},
   "source": [
    "#### Install anatools from PyPi"
   ]
  },
  {
   "cell_type": "code",
   "execution_count": null,
   "id": "73defe90",
   "metadata": {},
   "outputs": [],
   "source": [
    "pip install anatools --upgrade"
   ]
  },
  {
   "cell_type": "markdown",
   "id": "080e5b34",
   "metadata": {},
   "source": [
    "#### Log in\n",
    "\n",
    "Enter your credentials at the prompts. Logging in successfully will list the organizations and workspaces you have access to."
   ]
  },
  {
   "cell_type": "code",
   "execution_count": 12,
   "id": "fb6b48b5",
   "metadata": {},
   "outputs": [
    {
     "name": "stdout",
     "output_type": "stream",
     "text": [
      "Enter your credentials for the Rendered.ai Platform.\n",
      "Email: email@rendered.ai\n",
      "········\n",
      "These are your organizations and workspaces:\n",
      "    default Organization                          e8af8e7e-60d3-415f-a88d-9f4e191afec4              \n",
      "\tExample                                   c721696e-648f-4572-a9ca-5dd72f1e8f58              \n",
      "The current workspaces is: c721696e-648f-4572-a9ca-5dd72f1e8f58\n"
     ]
    }
   ],
   "source": [
    "import anatools\n",
    "\n",
    "sdk = anatools.client()"
   ]
  },
  {
   "cell_type": "markdown",
   "id": "faca5644",
   "metadata": {},
   "source": [
    "#### Set up imports\n",
    "These imports are required for this Notebook to run."
   ]
  },
  {
   "cell_type": "code",
   "execution_count": 5,
   "id": "638c333d",
   "metadata": {},
   "outputs": [],
   "source": [
    "import json\n",
    "import pprint\n",
    "import os\n",
    "\n",
    "pp = pprint.PrettyPrinter(indent=4)"
   ]
  },
  {
   "cell_type": "markdown",
   "id": "91be5990",
   "metadata": {},
   "source": [
    "### Channels\n",
    "\n",
    "Channels are the different applications that define the generated synthetic data physics, objects, and backgrounds. All members and admins of a workspace can modify the channel access to a workspace and update the managed channels that your organization is developing. To learn more information, read through the [Terminology](https://support.rendered.ai/rd/Terminology.1589379085.html) guide.\n",
    "\n",
    "As a **member** or **admin** of a workspace within an organization, you can:\n",
    "- view the channels that your organization is developing with `get_managed_channels()`\n",
    "- modify the channels available to a workspace with `add_channel_access()` and `remove_channel_access()`\n",
    "- create a new channel for your organization with `create_managed_channel()`\n",
    "- edit a channel of your organization with `edit_managed_channel()` \n",
    "- update the channel docker image with `deploy_managed_channel()`\n",
    "- view the deployment status of your managed channel with `get_deployment_status()`\n",
    "\n",
    "Follow [this tutorial](https://support.rendered.ai/dg/Deploying-a-Channel-to-the-Platform.1614676085.html) for deploying a channel for the first time. \n",
    "\n",
    "#### View Managed Channels\n",
    "\n",
    "Use `get_managed_channels()` to obtain the channelId, name, instance type, volume ids, and list of other orgs that have access to your organization's channels."
   ]
  },
  {
   "cell_type": "code",
   "execution_count": 11,
   "id": "60a28731",
   "metadata": {},
   "outputs": [
    {
     "data": {
      "text/plain": [
       "[{'channelId': '7976beee-3f8a-4bf5-a3c4-57959e44f728',\n",
       "  'organizationId': 'e8af8e7e-60d3-415f-a88d-9f4e191afec4',\n",
       "  'name': 'demo',\n",
       "  'instanceType': 'p2.xlarge',\n",
       "  'volumes': [],\n",
       "  'timeout': 120,\n",
       "  'createdAt': '2022-04-21T19:20:22.239Z',\n",
       "  'updatedAt': '2022-04-21T19:20:33.581Z',\n",
       "  'organizations': [{'organizationId': 'e8af8e7e-60d3-415f-a88d-9f4e191afec4',\n",
       "    'name': 'default'}]}]"
      ]
     },
     "execution_count": 11,
     "metadata": {},
     "output_type": "execute_result"
    }
   ],
   "source": [
    "sdk.get_managed_channels()"
   ]
  },
  {
   "cell_type": "markdown",
   "id": "3af44931",
   "metadata": {},
   "source": [
    "### Volumes\n",
    "\n",
    "Most channels will require volumes to be uploaded along with channel deployment. Read through [this tutorial](https://support.rendered.ai/dg/Volumes-and-Package-Data.1615200272.html) to learn about the setup for the volumes directory and deploying the channel with updated package information.\n",
    "\n",
    "As a **member** or **admin** of a workspace within an organization, you can:\n",
    "- view all volumes that your organization can access with `get_volumes()` \n",
    "- view the files data within a volume with `get_volume_data()`\n",
    "- manage volumes access within organizations with `add_volume_access()` and `remove_volume_access()` \n",
    "- view information about your organization's volumes with `get_managed_volumes()`\n",
    "- create a new managed volume for your organization with `create_managed_volume()`\n",
    "- delete a managed volume for your organization with `delete_managed_volume()`\n",
    "- edit a managed volume for your organization with `edit_managed_volume()`\n",
    "- upload data to a volume with `upload_volume_data()`\n",
    "- delete volume data with `delete_volume_data()`\n",
    "\n",
    "#### View all volumes\n",
    "Run `get_volumes()` to view the list of volumes you have access to and information such as volume Id, organizationId of the owner, and volume name."
   ]
  },
  {
   "cell_type": "code",
   "execution_count": 22,
   "id": "9ae839f6",
   "metadata": {},
   "outputs": [
    {
     "name": "stdout",
     "output_type": "stream",
     "text": [
      "[   {   'name': 'ex_volume1',\n",
      "        'organizationId': 'e8af8e7e-60d3-415f-a88d-9f4e191afec4',\n",
      "        'organizationName': 'default Organization',\n",
      "        'updatedAt': '2022-01-06T15:57:52.682Z',\n",
      "        'volumeId': '25a1041f-fc86-422c-8619-1501e6e0b887'}\n"
     ]
    }
   ],
   "source": [
    "volumes = sdk.get_volumes()\n",
    "pp.pprint(volumes)"
   ]
  },
  {
   "cell_type": "markdown",
   "id": "675a00b1",
   "metadata": {},
   "source": [
    "#### View Managed Volumes\n",
    "\n",
    "Use `get_managed_volumes()` to view the list of volumes your organization owns with information on the volumeId, name, created at timestamp, updated at timestamp, and list of other organizations that have access to the volume."
   ]
  },
  {
   "cell_type": "code",
   "execution_count": 23,
   "id": "8c389145",
   "metadata": {},
   "outputs": [
    {
     "data": {
      "text/plain": [
       "[{'volumeId': '25a1041f-fc86-422c-8619-1501e6e0b887',\n",
       "  'organizationId': 'e8af8e7e-60d3-415f-a88d-9f4e191afec4',\n",
       "  'name': 'ex_volume1',\n",
       "  'createdAt': '2022-01-06T15:57:52.682Z',\n",
       "  'updatedAt': '2022-01-06T15:57:52.682Z',\n",
       "  'organizations': [{'organizationId': 'e8af8e7e-60d3-415f-a88d-9f4e191afec4',\n",
       "    'name': 'default Organization'}]},\n",
       " {'volumeId': 'eeb45ef5-a70b-438a-b665-11aa06ee76c2',\n",
       "  'organizationId': 'e8af8e7e-60d3-415f-a88d-9f4e191afec4',\n",
       "  'name': 'ex_volume2',\n",
       "  'createdAt': '2021-12-21T05:45:36.026Z',\n",
       "  'updatedAt': '2022-03-10T19:59:04.774Z',\n",
       "  'organizations': [{'organizationId': 'e8af8e7e-60d3-415f-a88d-9f4e191afec4',\n",
       "    'name': 'default Organization'}]"
      ]
     },
     "execution_count": 23,
     "metadata": {},
     "output_type": "execute_result"
    }
   ],
   "source": [
    "sdk.get_managed_volumes()"
   ]
  },
  {
   "cell_type": "markdown",
   "id": "6e502102",
   "metadata": {},
   "source": [
    "#### View Volume data\n",
    "\n",
    "Use `get_volume_data()` to view all the files within a volume."
   ]
  },
  {
   "cell_type": "code",
   "execution_count": 26,
   "id": "7808c3f5",
   "metadata": {},
   "outputs": [
    {
     "data": {
      "text/plain": [
       "[{'key': 'object1.blend',\n",
       "  'size': 4364448,\n",
       "  'lastUpdated': '2021-12-21T05:48:24.000Z',\n",
       "  'hash': '85328665170bfd797a25d631ca568f52'},\n",
       " {'key': 'object2.blend',\n",
       "  'size': 11026564,\n",
       "  'lastUpdated': '2021-12-21T05:48:33.000Z',\n",
       "  'hash': '28b871b9d3d8b68e3d0971278655d805'},\n",
       " {'key': 'container.blend',\n",
       "  'size': 784804,\n",
       "  'lastUpdated': '2021-12-21T05:48:44.000Z',\n",
       "  'hash': '28d842d3c70c5299854e40b24f4f31b8'},\n",
       " {'key': 'background1.blend',\n",
       "  'size': 3963416,\n",
       "  'lastUpdated': '2021-12-21T05:48:53.000Z',\n",
       "  'hash': 'c3b45ceef5a8d32ae735e0d1460eed72'}]"
      ]
     },
     "execution_count": 26,
     "metadata": {},
     "output_type": "execute_result"
    }
   ],
   "source": [
    "sdk.get_volume_data(volumeId=volumes[0]['volumeId'])"
   ]
  },
  {
   "cell_type": "markdown",
   "id": "febd754a",
   "metadata": {},
   "source": [
    "### Create a new managed Volume and add Channel access to it\n",
    "\n",
    "Follow along to learn how to create a managed volume for a managed channel and upload data to the volume. The volume directory used here has been pre-generated for this example and the data within this volume matches everything that the example channel volume includes. The name of this volume is `demovolume`.\n",
    "\n",
    "In order to run this volume with the managed channel, make sure that the channel has been rebuilt with the volume. Those instructions are in [this tutorial](https://support.rendered.ai/dg/Volumes-and-Package-Data.1615200272.html).\n",
    "\n",
    "#### Create a new managed volume\n",
    "\n",
    "Start by creating a managed volume with `create_managed_volume`. This will create a namespace for the volume data that can later be uploaded into or deleted from. Save the `volumeId` for future reference. Confirm that this volume exists with `get_volumes` and pass in the reference `volumeId` saved earlier.\n",
    "\n",
    "**Note** The volume name must match what it is called in the local `data/volumes` directory during channel development."
   ]
  },
  {
   "cell_type": "code",
   "execution_count": 2,
   "id": "f9c89cf0",
   "metadata": {},
   "outputs": [
    {
     "data": {
      "text/plain": [
       "25032779-04e8-47b0-8205-c9aabda5f2a4"
      ]
     },
     "execution_count": 2,
     "metadata": {},
     "output_type": "execute_result"
    }
   ],
   "source": [
    "volumeId = sdk.create_managed_volume(name='demovolume')\n",
    "print(volumeId)"
   ]
  },
  {
   "cell_type": "code",
   "execution_count": 68,
   "id": "7ce2c418",
   "metadata": {},
   "outputs": [
    {
     "name": "stdout",
     "output_type": "stream",
     "text": [
      "[   {   'createdAt': '2022-04-25T22:00:17.823Z',\n",
      "        'name': 'demovolume',\n",
      "        'organizationId': 'e8af8e7e-60d3-415f-a88d-9f4e191afec4',\n",
      "        'organizations': [   {   'name': 'default',\n",
      "                                 'organizationId': 'e8af8e7e-60d3-415f-a88d-9f4e191afec4'}],\n",
      "        'updatedAt': '2022-04-26T15:26:12.493Z',\n",
      "        'volumeId': '25032779-04e8-47b0-8205-c9aabda5f2a4'}]\n"
     ]
    }
   ],
   "source": [
    "volumes = sdk.get_managed_volumes(volumeId=volumeId)\n",
    "pp.pprint(volumes)"
   ]
  },
  {
   "cell_type": "markdown",
   "id": "066601e6",
   "metadata": {},
   "source": [
    "#### Upload data to the volume\n",
    "\n",
    "This volume is ready to upload into now with `upload_volume_data`. Note that this step's run and output has been pre-generated and the`demovolume` directory name is just for reference. Not included in the output here is the progress is written out as each file is uploaded in a queue. "
   ]
  },
  {
   "cell_type": "code",
   "execution_count": 8,
   "id": "8778e489",
   "metadata": {},
   "outputs": [
    {
     "name": "stdout",
     "output_type": "stream",
     "text": [
      "Uploading files completed.\u001b[1K\u001b[1K\u001b[1K\u001b[1K\u001b[1K\u001b[1K\u001b[1K\u001b[1K\n"
     ]
    }
   ],
   "source": [
    "sdk.upload_volume_data(volumeId=volumeId, localDir='demovolume', sync=True)"
   ]
  },
  {
   "cell_type": "markdown",
   "id": "a2c5f384",
   "metadata": {},
   "source": [
    "Confirm all the files are uploaded as expected with `get_volume_data`."
   ]
  },
  {
   "cell_type": "code",
   "execution_count": 9,
   "id": "aabb8301",
   "metadata": {},
   "outputs": [
    {
     "data": {
      "text/plain": [
       "[{'key': 'LowPoly.blend',\n",
       "  'size': 8530072,\n",
       "  'lastUpdated': '2022-04-25T22:10:43.000Z',\n",
       "  'hash': 'f4713065093432a713bb6df901616ef2'},\n",
       " {'key': 'box.blend',\n",
       "  'size': 742640,\n",
       "  'lastUpdated': '2022-04-25T22:10:54.000Z',\n",
       "  'hash': 'b88d09e4347f04f678e79e0fd2dc3a20'},\n",
       " {'key': 'containers.blend',\n",
       "  'size': 32590436,\n",
       "  'lastUpdated': '2022-04-25T22:10:28.000Z',\n",
       "  'hash': 'cf474c6dec5927e4d95b8fc4b03512ab'},\n",
       " {'key': 'floors.blend',\n",
       "  'size': 7176236,\n",
       "  'lastUpdated': '2022-04-25T22:10:57.000Z',\n",
       "  'hash': '2e3d05a3bf681834b40686bfb96e1272'}]"
      ]
     },
     "execution_count": 9,
     "metadata": {},
     "output_type": "execute_result"
    }
   ],
   "source": [
    "sdk.get_volume_data(volumeId=volumeId)"
   ]
  },
  {
   "cell_type": "markdown",
   "id": "22f5c78d",
   "metadata": {},
   "source": [
    "#### Add the managed Volume to a managed Channel\n",
    "\n",
    "This volume is now ready to attach to a managed channel within this organization. Currently, a managed channel `demo` already exists in this organization and the `demovolume` will get added to this `demo` channel. Viewing the channel data shows that no volumes currently are associated with the channel."
   ]
  },
  {
   "cell_type": "code",
   "execution_count": 16,
   "id": "90d03442",
   "metadata": {},
   "outputs": [
    {
     "name": "stdout",
     "output_type": "stream",
     "text": [
      "[   {   'channelId': '7976beee-3f8a-4bf5-a3c4-57959e44f728',\n",
      "        'createdAt': '2022-04-21T19:20:22.239Z',\n",
      "        'instanceType': 'p2.xlarge',\n",
      "        'name': 'demo',\n",
      "        'organizationId': 'e8af8e7e-60d3-415f-a88d-9f4e191afec4',\n",
      "        'organizations': [   {   'name': 'default',\n",
      "                                 'organizationId': 'e8af8e7e-60d3-415f-a88d-9f4e191afec4'}],\n",
      "        'timeout': 120,\n",
      "        'updatedAt': '2022-04-21T19:20:33.581Z',\n",
      "        'volumes': []}]\n"
     ]
    }
   ],
   "source": [
    "managed_channels = sdk.get_managed_channels()\n",
    "pp.pprint(managed_channels)"
   ]
  },
  {
   "cell_type": "markdown",
   "id": "feccaa6f",
   "metadata": {},
   "source": [
    "Obtain the `channelId` with `get_managed_channels`. Then, use `edit_managed_channel` to add access to this volume."
   ]
  },
  {
   "cell_type": "code",
   "execution_count": 65,
   "id": "9a9b8132",
   "metadata": {},
   "outputs": [
    {
     "data": {
      "text/plain": [
       "True"
      ]
     },
     "execution_count": 65,
     "metadata": {},
     "output_type": "execute_result"
    }
   ],
   "source": [
    "channelId = managed_channels[0]['channelId']\n",
    "sdk.edit_managed_channel(channelId=channelId, volumes=[volumeId])"
   ]
  },
  {
   "cell_type": "markdown",
   "id": "ad23e9ea",
   "metadata": {},
   "source": [
    "Confirm that the `demovolume` id shows up in the `volumes` list for this managed channel."
   ]
  },
  {
   "cell_type": "code",
   "execution_count": 67,
   "id": "e972ded7",
   "metadata": {},
   "outputs": [
    {
     "name": "stdout",
     "output_type": "stream",
     "text": [
      "[   {   'channelId': '7976beee-3f8a-4bf5-a3c4-57959e44f728',\n",
      "        'createdAt': '2022-04-21T19:20:22.239Z',\n",
      "        'instanceType': 'p2.xlarge',\n",
      "        'name': 'demo',\n",
      "        'organizationId': 'e8af8e7e-60d3-415f-a88d-9f4e191afec4',\n",
      "        'organizations': [   {   'name': 'default',\n",
      "                                 'organizationId': 'e8af8e7e-60d3-415f-a88d-9f4e191afec4'}],\n",
      "        'timeout': 120,\n",
      "        'updatedAt': '2022-04-21T19:20:33.581Z',\n",
      "        'volumes': ['25032779-04e8-47b0-8205-c9aabda5f2a4']}]\n"
     ]
    }
   ],
   "source": [
    "managed_channels = sdk.get_managed_channels()\n",
    "pp.pprint(managed_channels)"
   ]
  },
  {
   "cell_type": "markdown",
   "id": "fd5c9e27",
   "metadata": {},
   "source": [
    "This channel is now ready to use. Run a preview or a dataset job via SDK or UI to verify the channel."
   ]
  },
  {
   "cell_type": "markdown",
   "id": "b8709c26",
   "metadata": {},
   "source": [
    "### Download Volume Data\n",
    "\n",
    "Use `download_volume_data` to download all the files from the `demovolume` to a specified directory. "
   ]
  },
  {
   "cell_type": "code",
   "execution_count": 35,
   "id": "4ac70fa1",
   "metadata": {},
   "outputs": [
    {
     "name": "stdout",
     "output_type": "stream",
     "text": [
      "download: floors.blend to ./demovolume-download/floors.blendrs.blend1K\u001b[1K"
     ]
    }
   ],
   "source": [
    "sdk.download_volume_data(volumeId=volumeId, localDir='./demovolume-download', sync=True)"
   ]
  },
  {
   "cell_type": "markdown",
   "id": "168cd6bd",
   "metadata": {},
   "source": [
    "Confirm the files were downloaded by viewing the directory contents. The `os.listdir` shows that the files all match to the `demovolume` contents."
   ]
  },
  {
   "cell_type": "code",
   "execution_count": 39,
   "id": "bbc7b08f",
   "metadata": {},
   "outputs": [
    {
     "data": {
      "text/plain": [
       "['containers.blend', 'LowPoly.blend', 'box.blend', 'floors.blend']"
      ]
     },
     "execution_count": 39,
     "metadata": {},
     "output_type": "execute_result"
    }
   ],
   "source": [
    "os.listdir(os.getcwd()+'/demovolume-download') "
   ]
  },
  {
   "cell_type": "markdown",
   "id": "d7ab1c14",
   "metadata": {},
   "source": [
    "### Delete Volume Data\n",
    "\n",
    "Volume data can be deleted through the `delete_volume_data` call. \n",
    "\n",
    "First, view the files within the volume and select the ones you wish to delete. For this example, the `LowPoly.blend` and `box.blend` files will get removed. "
   ]
  },
  {
   "cell_type": "code",
   "execution_count": 21,
   "id": "404c0ed0",
   "metadata": {},
   "outputs": [
    {
     "data": {
      "text/plain": [
       "[{'key': 'LowPoly.blend',\n",
       "  'size': 8530072,\n",
       "  'lastUpdated': '2022-04-25T22:10:43.000Z',\n",
       "  'hash': 'f4713065093432a713bb6df901616ef2'},\n",
       " {'key': 'box.blend',\n",
       "  'size': 742640,\n",
       "  'lastUpdated': '2022-04-25T22:10:54.000Z',\n",
       "  'hash': 'b88d09e4347f04f678e79e0fd2dc3a20'},\n",
       " {'key': 'containers.blend',\n",
       "  'size': 32590436,\n",
       "  'lastUpdated': '2022-04-25T22:10:28.000Z',\n",
       "  'hash': 'cf474c6dec5927e4d95b8fc4b03512ab'},\n",
       " {'key': 'floors.blend',\n",
       "  'size': 7176236,\n",
       "  'lastUpdated': '2022-04-25T22:10:57.000Z',\n",
       "  'hash': '2e3d05a3bf681834b40686bfb96e1272'}]"
      ]
     },
     "execution_count": 21,
     "metadata": {},
     "output_type": "execute_result"
    }
   ],
   "source": [
    "volumeId='25032779-04e8-47b0-8205-c9aabda5f2a4'\n",
    "sdk.get_volume_data(volumeId=volumeId)"
   ]
  },
  {
   "cell_type": "markdown",
   "id": "b808e205",
   "metadata": {},
   "source": [
    "Pass in the `volumeId` and `files` list to delete the data."
   ]
  },
  {
   "cell_type": "code",
   "execution_count": 23,
   "id": "64e49720",
   "metadata": {},
   "outputs": [
    {
     "data": {
      "text/plain": [
       "['success', 'success']"
      ]
     },
     "execution_count": 23,
     "metadata": {},
     "output_type": "execute_result"
    }
   ],
   "source": [
    "sdk.delete_volume_data(volumeId=volumeId, files=['LowPoly.blend', 'box.blend'])"
   ]
  },
  {
   "cell_type": "markdown",
   "id": "bc7d8d0f",
   "metadata": {},
   "source": [
    "Verify the data was deleted through `get_volume_data`."
   ]
  },
  {
   "cell_type": "code",
   "execution_count": 24,
   "id": "6da803b6",
   "metadata": {},
   "outputs": [
    {
     "data": {
      "text/plain": [
       "[{'key': 'containers.blend',\n",
       "  'size': 32590436,\n",
       "  'lastUpdated': '2022-04-25T22:10:28.000Z',\n",
       "  'hash': 'cf474c6dec5927e4d95b8fc4b03512ab'},\n",
       " {'key': 'floors.blend',\n",
       "  'size': 7176236,\n",
       "  'lastUpdated': '2022-04-25T22:10:57.000Z',\n",
       "  'hash': '2e3d05a3bf681834b40686bfb96e1272'}]"
      ]
     },
     "execution_count": 24,
     "metadata": {},
     "output_type": "execute_result"
    }
   ],
   "source": [
    "sdk.get_volume_data(volumeId=volumeId)"
   ]
  },
  {
   "cell_type": "markdown",
   "id": "ff7ac3e2",
   "metadata": {},
   "source": [
    "### Updating Volume Access\n",
    "\n",
    "A managed volume created through your organization can only be accessed by your organization. In order to update this access for another organization, use either `add_volume_access` or `remove_volume_access`. Note that you must be a member or admin in both organizations to manage this access. \n",
    "\n",
    "For this example, the `demovolume` managed volume is within the `default` organization. The `Rendered.ai` organization will get the update for volume access.\n",
    "\n",
    "Use `get_organizations` to view all the organizations you can are in and `get_managed_volumes` to view the organizations that can access the volume. Save the `organizationId` that will get the volume access update."
   ]
  },
  {
   "cell_type": "code",
   "execution_count": 45,
   "id": "b32759a4",
   "metadata": {},
   "outputs": [
    {
     "name": "stdout",
     "output_type": "stream",
     "text": [
      "[   {   'name': 'Rendered.ai',\n",
      "        'organizationId': '09748a0dd356e7cad277e9a13814a8cc',\n",
      "        'role': 'member'},\n",
      "    {   'name': 'default',\n",
      "        'organizationId': 'e8af8e7e-60d3-415f-a88d-9f4e191afec4',\n",
      "        'role': 'admin'}]\n"
     ]
    }
   ],
   "source": [
    "all_orgs = sdk.get_organizations()\n",
    "org_update_access = all_orgs[0]['organizationId']\n",
    "pp.pprint(all_orgs)"
   ]
  },
  {
   "cell_type": "code",
   "execution_count": 51,
   "id": "01e18213",
   "metadata": {},
   "outputs": [
    {
     "data": {
      "text/plain": [
       "[{'volumeId': '25032779-04e8-47b0-8205-c9aabda5f2a4',\n",
       "  'organizationId': 'e8af8e7e-60d3-415f-a88d-9f4e191afec4',\n",
       "  'name': 'demovolume',\n",
       "  'createdAt': '2022-04-25T22:00:17.823Z',\n",
       "  'updatedAt': '2022-04-26T15:26:12.493Z',\n",
       "  'organizations': [{'organizationId': 'e8af8e7e-60d3-415f-a88d-9f4e191afec4',\n",
       "    'name': 'default'}]}]"
      ]
     },
     "execution_count": 51,
     "metadata": {},
     "output_type": "execute_result"
    }
   ],
   "source": [
    "sdk.get_managed_volumes(volumeId=volumeId)"
   ]
  },
  {
   "cell_type": "markdown",
   "id": "d954acd9",
   "metadata": {},
   "source": [
    "#### Add Volume Access\n",
    "\n",
    "Now, use `add_volume_access` with the `demovolume`'s `volumeId` and the `Rendered.ai` `organizationId` saved in the step earlier. "
   ]
  },
  {
   "cell_type": "code",
   "execution_count": 46,
   "id": "5e6eee54",
   "metadata": {},
   "outputs": [
    {
     "data": {
      "text/plain": [
       "True"
      ]
     },
     "execution_count": 46,
     "metadata": {},
     "output_type": "execute_result"
    }
   ],
   "source": [
    "sdk.add_volume_access(volumeId=volumeId, organizationId=org_update_access)"
   ]
  },
  {
   "cell_type": "markdown",
   "id": "68fae1b0",
   "metadata": {},
   "source": [
    "Confirm the added access with `get_managed_volumes()` and check that the organizations list includes the new organization. In the output below, we can see that now the `Rendered.ai` organization is in this organizations list."
   ]
  },
  {
   "cell_type": "code",
   "execution_count": 49,
   "id": "8e34f7fe",
   "metadata": {},
   "outputs": [
    {
     "data": {
      "text/plain": [
       "[{'volumeId': '25032779-04e8-47b0-8205-c9aabda5f2a4',\n",
       "  'organizationId': 'e8af8e7e-60d3-415f-a88d-9f4e191afec4',\n",
       "  'name': 'demovolume',\n",
       "  'createdAt': '2022-04-25T22:00:17.823Z',\n",
       "  'updatedAt': '2022-04-26T15:26:12.493Z',\n",
       "  'organizations': [{'organizationId': '09748a0dd356e7cad277e9a13814a8cc',\n",
       "    'name': 'Rendered.ai'},\n",
       "   {'organizationId': 'e8af8e7e-60d3-415f-a88d-9f4e191afec4',\n",
       "    'name': 'default'}]}]"
      ]
     },
     "execution_count": 49,
     "metadata": {},
     "output_type": "execute_result"
    }
   ],
   "source": [
    "sdk.get_managed_volumes(volumeId=volumeId)"
   ]
  },
  {
   "cell_type": "markdown",
   "id": "21633db4",
   "metadata": {},
   "source": [
    "#### Remove Volume Access\n",
    "\n",
    "Use `remove_volume_access` to revoke the access to the `demovolume` from the `Rendered.ai` organization. "
   ]
  },
  {
   "cell_type": "code",
   "execution_count": 50,
   "id": "4ef1a90d",
   "metadata": {},
   "outputs": [
    {
     "data": {
      "text/plain": [
       "True"
      ]
     },
     "execution_count": 50,
     "metadata": {},
     "output_type": "execute_result"
    }
   ],
   "source": [
    "sdk.remove_volume_access(volumeId=volumeId, organizationId=org_update_access)"
   ]
  },
  {
   "cell_type": "markdown",
   "id": "cd178411",
   "metadata": {},
   "source": [
    "Confirm the removed access with `get_managed_volumes()` and check that the organizations list only contains the `default` organization. In the output below, we can see that now the `Rendered.ai` organization is removed from the volume."
   ]
  },
  {
   "cell_type": "code",
   "execution_count": 52,
   "id": "2f9dda2f",
   "metadata": {},
   "outputs": [
    {
     "data": {
      "text/plain": [
       "[{'volumeId': '25032779-04e8-47b0-8205-c9aabda5f2a4',\n",
       "  'organizationId': 'e8af8e7e-60d3-415f-a88d-9f4e191afec4',\n",
       "  'name': 'demovolume',\n",
       "  'createdAt': '2022-04-25T22:00:17.823Z',\n",
       "  'updatedAt': '2022-04-26T15:26:12.493Z',\n",
       "  'organizations': [{'organizationId': 'e8af8e7e-60d3-415f-a88d-9f4e191afec4',\n",
       "    'name': 'default'}]}]"
      ]
     },
     "execution_count": 52,
     "metadata": {},
     "output_type": "execute_result"
    }
   ],
   "source": [
    "sdk.get_managed_volumes(volumeId=volumeId)"
   ]
  }
 ],
 "metadata": {
  "kernelspec": {
   "display_name": "Python 3",
   "language": "python",
   "name": "python3"
  },
  "language_info": {
   "codemirror_mode": {
    "name": "ipython",
    "version": 3
   },
   "file_extension": ".py",
   "mimetype": "text/x-python",
   "name": "python",
   "nbconvert_exporter": "python",
   "pygments_lexer": "ipython3",
   "version": "3.8.8"
  }
 },
 "nbformat": 4,
 "nbformat_minor": 5
}
