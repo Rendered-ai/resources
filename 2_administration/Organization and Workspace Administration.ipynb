{
 "cells": [
  {
   "cell_type": "markdown",
   "id": "fe1d3aef",
   "metadata": {},
   "source": [
    "# Organization and Workspace Management"
   ]
  },
  {
   "cell_type": "markdown",
   "id": "1426e549",
   "metadata": {},
   "source": [
    "Objective: Learn how to manage organizations + members, and workspace + guests. \n",
    "\n",
    "Reference the latest SDK Documentation at https://sdk.rendered.ai"
   ]
  },
  {
   "cell_type": "markdown",
   "id": "5c3f3730",
   "metadata": {},
   "source": [
    "#### Install anatools from PyPi"
   ]
  },
  {
   "cell_type": "code",
   "execution_count": null,
   "id": "73defe90",
   "metadata": {},
   "outputs": [],
   "source": [
    "pip install anatools --upgrade"
   ]
  },
  {
   "cell_type": "markdown",
   "id": "080e5b34",
   "metadata": {},
   "source": [
    "#### Log in\n",
    "\n",
    "Enter your credentials at the prompts. Logging in successfully will list the organizations and workspaces you have access to."
   ]
  },
  {
   "cell_type": "code",
   "execution_count": 6,
   "id": "fb6b48b5",
   "metadata": {},
   "outputs": [
    {
     "name": "stdout",
     "output_type": "stream",
     "text": [
      "Enter your credentials for the Rendered.ai Platform.\n",
      "Email: email@rendered.ai\n",
      "········\n",
      "These are your organizations and workspaces:\n",
      "    default Organization                          e8af8e7e-60d3-415f-a88d-9f4e191afec4              \n",
      "\tExample                                   c721696e-648f-4572-a9ca-5dd72f1e8f58              \n",
      "The current workspaces is: c721696e-648f-4572-a9ca-5dd72f1e8f58\n"
     ]
    }
   ],
   "source": [
    "import anatools\n",
    "\n",
    "sdk = anatools.client()"
   ]
  },
  {
   "cell_type": "markdown",
   "id": "69e88a37",
   "metadata": {},
   "source": [
    "### Organization Management\n",
    "\n",
    "An organization holds many workspaces and is equivalent to the account that your billing information is tied to. A user must either create an organization through the sign up process or be invited into it from a member or administrator. Read through the [Quick Start Guide](https://support.rendered.ai/rd/Quick-Start-Guide.1577779251.html) for more information about terminology.\n",
    "\n",
    "#### View Your Organizations\n",
    "\n",
    "As a **guest** of an organization, you can\n",
    "- get information about the organizations you are in with `get_organizations()`\n",
    "\n",
    "Use `get_organizations()` to view the organizations you have access to and your role."
   ]
  },
  {
   "cell_type": "code",
   "execution_count": 3,
   "id": "3f49b8cd",
   "metadata": {},
   "outputs": [
    {
     "name": "stdout",
     "output_type": "stream",
     "text": [
      "[   {   'name': 'default',\n",
      "        'organizationId': 'e8af8e7e-60d3-415f-a88d-9f4e191afec4',\n",
      "        'role': 'admin'}]\n"
     ]
    }
   ],
   "source": [
    "import pprint\n",
    "pp = pprint.PrettyPrinter(indent=4)\n",
    "\n",
    "orgs = sdk.get_organizations()\n",
    "pp.pprint(orgs)"
   ]
  },
  {
   "cell_type": "markdown",
   "id": "ea07ef1f",
   "metadata": {},
   "source": [
    "As a **member** of an organization, you can do everything a guest can and in addition:\n",
    "- view organization usage and limits with `get_organization_limits()`\n",
    "- view list of organization members with `get_organization_members()`\n",
    "- invite other members to the organization with `add_organization_member()`\n",
    "- view list of pending invites to the organization with `get_organization_invites()`\n",
    "- remove a pending invite to the organization with `remove_organization_invitation()`\n",
    "\n",
    "\n",
    "Use `get_organization_limits()` to view usage."
   ]
  },
  {
   "cell_type": "code",
   "execution_count": 4,
   "id": "a3f76dd3",
   "metadata": {},
   "outputs": [
    {
     "data": {
      "text/plain": [
       "[{'organizationId': 'e8af8e7e-60d3-415f-a88d-9f4e191afec4',\n",
       "  'setting': 'Compute Time',\n",
       "  'limit': '10',\n",
       "  'usage': 0},\n",
       " {'organizationId': 'e8af8e7e-60d3-415f-a88d-9f4e191afec4',\n",
       "  'setting': 'Dataset Storage',\n",
       "  'limit': '20',\n",
       "  'usage': 7.404867},\n",
       " {'organizationId': 'e8af8e7e-60d3-415f-a88d-9f4e191afec4',\n",
       "  'setting': 'Instances',\n",
       "  'limit': '1',\n",
       "  'usage': 0},\n",
       " {'organizationId': 'e8af8e7e-60d3-415f-a88d-9f4e191afec4',\n",
       "  'setting': 'Managed Channels',\n",
       "  'limit': '3',\n",
       "  'usage': 0},\n",
       " {'organizationId': 'e8af8e7e-60d3-415f-a88d-9f4e191afec4',\n",
       "  'setting': 'Managed Volumes',\n",
       "  'limit': '1',\n",
       "  'usage': 0},\n",
       " {'organizationId': 'e8af8e7e-60d3-415f-a88d-9f4e191afec4',\n",
       "  'setting': 'Members',\n",
       "  'limit': '1',\n",
       "  'usage': 1},\n",
       " {'organizationId': 'e8af8e7e-60d3-415f-a88d-9f4e191afec4',\n",
       "  'setting': 'Volume Storage',\n",
       "  'limit': '10',\n",
       "  'usage': 0},\n",
       " {'organizationId': 'e8af8e7e-60d3-415f-a88d-9f4e191afec4',\n",
       "  'setting': 'Workspaces',\n",
       "  'limit': '1',\n",
       "  'usage': 1}]"
      ]
     },
     "execution_count": 4,
     "metadata": {},
     "output_type": "execute_result"
    }
   ],
   "source": [
    "sdk.get_organization_limits(organizationId=orgs[0]['organizationId'])"
   ]
  },
  {
   "cell_type": "markdown",
   "id": "7c3bcb0b",
   "metadata": {},
   "source": [
    "Use `get_organization_members()` to view the name, email, role, and userId of all users in your organization."
   ]
  },
  {
   "cell_type": "code",
   "execution_count": 5,
   "id": "aa1e9d82",
   "metadata": {},
   "outputs": [
    {
     "data": {
      "text/plain": [
       "[{'organizationId': 'e8af8e7e-60d3-415f-a88d-9f4e191afec4',\n",
       "  'workspaceId': None,\n",
       "  'userId': 'dzPlWuSaucR5F3wP4JeUazocX5J2',\n",
       "  'email': 'email@rendered.ai',\n",
       "  'name': 'Test User',\n",
       "  'role': 'admin'}]"
      ]
     },
     "execution_count": 5,
     "metadata": {},
     "output_type": "execute_result"
    }
   ],
   "source": [
    "sdk.get_organization_members(organizationId=orgs[0]['organizationId'])"
   ]
  },
  {
   "cell_type": "markdown",
   "id": "ee0a0a9c",
   "metadata": {},
   "source": [
    "As an **admin** of the organization, you can do everything a member can and also:\n",
    "- update a member's role with `edit_organization_member()`\n",
    "- remove a member from the organization with `remove_organization_member()`\n",
    "- set usage limits with `set_organization_limit()`\n",
    "- update the organization name with `edit_organization()`\n"
   ]
  },
  {
   "cell_type": "markdown",
   "id": "db5d7e04",
   "metadata": {},
   "source": [
    "#### Multiple organizations\n",
    "\n",
    "You can be part of multiple organizations and there is an easy way to switch between the organization you choose to work out of. Get the `organizationId` from `get_organizations()` and use `set_organization()` to switch into it. If you are confused on which organization you are currently working out of, use `get_organization()` to obtain that information."
   ]
  },
  {
   "cell_type": "markdown",
   "id": "53242e50",
   "metadata": {},
   "source": [
    "### Workspace Management\n",
    "\n",
    "A workspace within an organization is where all the dataset computation and storage happens. You must be in a workspace to run any type of job or download datasets. A workspace can be used to organize datasets by a certain type of channel or to manage guests that will have access to it. \n",
    "\n",
    "As a **guest** of a workspace, you can\n",
    "- create, edit, and delete graphs \n",
    "- create new datasets by running jobs\n",
    "- run analytics, annotations, and GAN jobs\n",
    "- view channels that are available within the workspace to use to generate synthetic data with `get_channels()`\n",
    "\n",
    "\n",
    "Use `get_workspaces()` to obtain information about the workspaces you have access to."
   ]
  },
  {
   "cell_type": "code",
   "execution_count": 7,
   "id": "5bbe8426",
   "metadata": {},
   "outputs": [
    {
     "data": {
      "text/plain": [
       "[{'workspaceId': 'c721696e-648f-4572-a9ca-5dd72f1e8f58',\n",
       "  'organizationId': 'e8af8e7e-60d3-415f-a88d-9f4e191afec4',\n",
       "  'name': 'Example',\n",
       "  'createdBy': None,\n",
       "  'createdAt': '2022-03-31T22:59:56.000Z',\n",
       "  'updatedAt': '2022-03-31T23:00:02.000Z'}]"
      ]
     },
     "execution_count": 7,
     "metadata": {},
     "output_type": "execute_result"
    }
   ],
   "source": [
    "sdk.get_workspaces()"
   ]
  },
  {
   "cell_type": "markdown",
   "id": "13c86b54",
   "metadata": {},
   "source": [
    "As a **member** of a workspace within an organization, you can do everything a guest can and also:\n",
    "- create new workspaces with `create_workspace()`\n",
    "- view the list of guests in the workspace with `get_workspace_guests()`\n",
    "- view the list of workspace guest invitations with `get_workspace_invites()`\n",
    "- invite or remove guests from the workspace with `add_workspace_guest()` and `remove_workspace_guest()`\n",
    "- revoke an invitation for a guest with `remove_workspace_invitation()`\n",
    "- view workspace usage and limits with `get_workspace_limits()`\n",
    "- channel administration, which is covered in the following section\n",
    "\n",
    "As an **admin** of a workspace, you can do everything a member can and in addition:\n",
    "- edit a workspace name with `edit_workspace()`\n",
    "- delete an existing workspace with `delete_workspace()`\n",
    "- update a workspace limit setting with `set_workspace_limit()`\n",
    "\n",
    "\n",
    "#### Multiple workspaces\n",
    "Similar to being part of multiple organizations, you can be also part of multiple workspaces and there is an easy way to switch between the workspaces you choose to work out of. Get the `workspaceId` from `get_workspaces()` and use `set_workspace()` to switch into it. If you are confused on which workspace you are currently working out of, call `get_workspace()` to get that information."
   ]
  }
 ],
 "metadata": {
  "kernelspec": {
   "display_name": "Python 3",
   "language": "python",
   "name": "python3"
  },
  "language_info": {
   "codemirror_mode": {
    "name": "ipython",
    "version": 3
   },
   "file_extension": ".py",
   "mimetype": "text/x-python",
   "name": "python",
   "nbconvert_exporter": "python",
   "pygments_lexer": "ipython3",
   "version": "3.8.8"
  }
 },
 "nbformat": 4,
 "nbformat_minor": 5
}
