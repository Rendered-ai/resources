{
 "cells": [
  {
   "cell_type": "markdown",
   "id": "571251ee",
   "metadata": {},
   "source": [
    "# Channel Administration\n",
    "\n",
    "Objective: Learn how to manage channels. To follow along, use the `toybox` content code when registering on the Platform or create a new workspace with this code.\n",
    "\n",
    "Reference the latest SDK Documentation at https://sdk.rendered.ai"
   ]
  },
  {
   "cell_type": "markdown",
   "id": "91be5990",
   "metadata": {},
   "source": [
    "## Channels\n",
    "\n",
    "Channels are the different applications that define the generated synthetic data physics, objects, and backgrounds. All members and admins of a workspace can modify the channel access to a workspace and update the managed channels that your organization is developing. To learn more information, read through the [Terminology](https://support.rendered.ai/rd/Terminology.1589379085.html) guide.\n",
    "\n",
    "As a **member** or **admin** of an organization, you can:\n",
    "- view the channels that your organization is developing with `get_managed_channels()`\n",
    "- modify the channels available to a workspace with `edit_workspace()` \n",
    "- manage your and other organizations access to managed channels with `add_channel_access()` and `remove_channel_access()`\n",
    "- create a new channel for your organization with `create_managed_channel()`\n",
    "- edit a channel of your organization with `edit_managed_channel()` \n",
    "- update the channel docker image with `deploy_managed_channel()`\n",
    "- view the deployment status of your managed channel with `get_deployment_status()`\n",
    "\n",
    "Follow [this tutorial](https://support.rendered.ai/dg/Deploying-a-Channel-to-the-Platform.1614676085.html) for deploying a channel for the first time. "
   ]
  },
  {
   "cell_type": "markdown",
   "id": "5c3f3730",
   "metadata": {},
   "source": [
    "### Get the latest `anatools`"
   ]
  },
  {
   "cell_type": "code",
   "execution_count": null,
   "id": "73defe90",
   "metadata": {},
   "outputs": [],
   "source": [
    "pip install anatools --upgrade"
   ]
  },
  {
   "cell_type": "markdown",
   "id": "faca5644",
   "metadata": {},
   "source": [
    "### Set up imports and log into the SDK\n",
    "These imports are required for this Notebook to run. \n",
    "Enter your credentials at the prompts. Logging in successfully will list the organizations and workspaces you have access to."
   ]
  },
  {
   "cell_type": "markdown",
   "id": "aaf5192c",
   "metadata": {},
   "source": [
    "from zipfile import ZipFile\n",
    "from matplotlib.pyplot import imshow\n",
    "from matplotlib import pyplot as plt\n",
    "import numpy as np\n",
    "from PIL import Image\n",
    "import glob\n",
    "import json\n",
    "import pprint\n",
    "import time \n",
    "import anatools\n",
    "\n",
    "pp = pprint.PrettyPrinter(indent=4)"
   ]
  },
  {
   "cell_type": "code",
   "execution_count": 1,
   "id": "fb6b48b5",
   "metadata": {},
   "outputs": [
    {
     "name": "stdout",
     "output_type": "stream",
     "text": [
      "Enter your credentials for the Rendered.ai Platform.\n",
      "Email: email@rendered.ai\n",
      "········\n",
      "These are your organizations and workspaces:\n",
      "    User's Organization                          e8af8e7e-60d3-415f-a88d-9f4e191afec4              \n",
      "\tToybox                                   c721696e-648f-4572-a9ca-5dd72f1e8f58              \n",
      "The current workspaces is: c721696e-648f-4572-a9ca-5dd72f1e8f58\n"
     ]
    }
   ],
   "source": [
    "sdk = anatools.client()"
   ]
  },
  {
   "cell_type": "markdown",
   "id": "ed9be5b7",
   "metadata": {},
   "source": [
    "### View Managed Channels\n",
    "\n",
    "Use `get_managed_channels()` to obtain the channelId, name, instance type, volume ids, and list of other orgs that have access to your organization's channels."
   ]
  },
  {
   "cell_type": "code",
   "execution_count": 11,
   "id": "60a28731",
   "metadata": {},
   "outputs": [
    {
     "data": {
      "text/plain": [
       "[{'channelId': '7976beee-3f8a-4bf5-a3c4-57959e44f728',\n",
       "  'organizationId': 'e8af8e7e-60d3-415f-a88d-9f4e191afec4',\n",
       "  'name': 'demo',\n",
       "  'instanceType': 'p2.xlarge',\n",
       "  'volumes': [],\n",
       "  'timeout': 120,\n",
       "  'createdAt': '2022-04-21T19:20:22.239Z',\n",
       "  'updatedAt': '2022-04-21T19:20:33.581Z',\n",
       "  'organizations': [{'organizationId': 'e8af8e7e-60d3-415f-a88d-9f4e191afec4',\n",
       "    'name': 'User's Organization'}]}]"
      ]
     },
     "execution_count": 11,
     "metadata": {},
     "output_type": "execute_result"
    }
   ],
   "source": [
    "sdk.get_managed_channels()"
   ]
  }
 ],
 "metadata": {
  "kernelspec": {
   "display_name": "Python 3",
   "language": "python",
   "name": "python3"
  },
  "language_info": {
   "codemirror_mode": {
    "name": "ipython",
    "version": 3
   },
   "file_extension": ".py",
   "mimetype": "text/x-python",
   "name": "python",
   "nbconvert_exporter": "python",
   "pygments_lexer": "ipython3",
   "version": "3.8.8"
  }
 },
 "nbformat": 4,
 "nbformat_minor": 5
}
