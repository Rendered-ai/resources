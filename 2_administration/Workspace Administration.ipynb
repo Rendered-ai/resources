{
 "cells": [
  {
   "cell_type": "markdown",
   "id": "fe1d3aef",
   "metadata": {},
   "source": [
    "# Workspace Administration\n",
    "\n",
    "Objective: Learn how to manage and workspace + guests. To follow along, use the `toybox` content code when registering on the Platform or create a new workspace with this code.\n",
    "\n",
    "Reference the latest SDK Documentation at https://sdk.rendered.ai\n",
    "\n",
    "A workspace within an organization is where all the dataset computation and storage happens. You must be in a workspace to run any type of job or download datasets. A workspace can be used to organize datasets by a certain type of channel or to manage guests that will have access to it. "
   ]
  },
  {
   "cell_type": "markdown",
   "id": "5c3f3730",
   "metadata": {},
   "source": [
    "### Get the latest `anatools`"
   ]
  },
  {
   "cell_type": "code",
   "execution_count": null,
   "id": "73defe90",
   "metadata": {},
   "outputs": [],
   "source": [
    "pip install anatools --upgrade"
   ]
  },
  {
   "cell_type": "markdown",
   "id": "faca5644",
   "metadata": {},
   "source": [
    "### Set up imports and log into the SDK\n",
    "These imports are required for this Notebook to run. \n",
    "Enter your credentials at the prompts. Logging in successfully will list the organizations and workspaces you have access to."
   ]
  },
  {
   "cell_type": "code",
   "execution_count": 5,
   "id": "638c333d",
   "metadata": {},
   "outputs": [],
   "source": [
    "from zipfile import ZipFile\n",
    "from matplotlib.pyplot import imshow\n",
    "from matplotlib import pyplot as plt\n",
    "import numpy as np\n",
    "from PIL import Image\n",
    "import glob\n",
    "import json\n",
    "import pprint\n",
    "import time \n",
    "import anatools\n",
    "\n",
    "pp = pprint.PrettyPrinter(indent=4)"
   ]
  },
  {
   "cell_type": "code",
   "execution_count": 1,
   "id": "fb6b48b5",
   "metadata": {},
   "outputs": [
    {
     "name": "stdout",
     "output_type": "stream",
     "text": [
      "Enter your credentials for the Rendered.ai Platform.\n",
      "Email: email@rendered.ai\n",
      "········\n",
      "These are your organizations and workspaces:\n",
      "    User's Organization                          e8af8e7e-60d3-415f-a88d-9f4e191afec4              \n",
      "\tToybox                                   c721696e-648f-4572-a9ca-5dd72f1e8f58              \n",
      "The current workspaces is: c721696e-648f-4572-a9ca-5dd72f1e8f58\n"
     ]
    }
   ],
   "source": [
    "sdk = anatools.client()"
   ]
  },
  {
   "cell_type": "markdown",
   "id": "91bb032e",
   "metadata": {},
   "source": [
    "### View Your Workspace Data\n",
    "\n",
    "As a **guest** of a workspace, you can\n",
    "- create, edit, and delete graphs \n",
    "- create new datasets by running jobs\n",
    "- run analytics, annotations, and GAN jobs\n",
    "- view channels that are available within the workspace to use to generate synthetic data with `get_channels()`\n",
    "\n",
    "\n",
    "Use `get_workspaces()` to obtain information about the workspaces you have access to."
   ]
  },
  {
   "cell_type": "code",
   "execution_count": 7,
   "id": "5bbe8426",
   "metadata": {},
   "outputs": [
    {
     "data": {
      "text/plain": [
       "[{'workspaceId': 'c721696e-648f-4572-a9ca-5dd72f1e8f58',\n",
       "  'organizationId': 'e8af8e7e-60d3-415f-a88d-9f4e191afec4',\n",
       "  'name': 'Toybox',\n",
       "  'createdBy': None,\n",
       "  'createdAt': '2022-03-31T22:59:56.000Z',\n",
       "  'updatedAt': '2022-03-31T23:00:02.000Z'}]"
      ]
     },
     "execution_count": 7,
     "metadata": {},
     "output_type": "execute_result"
    }
   ],
   "source": [
    "sdk.get_workspaces()"
   ]
  },
  {
   "cell_type": "markdown",
   "id": "13c86b54",
   "metadata": {},
   "source": [
    "As a **member** or **admin** of an organization who owns a workspace, you can do everything a guest can and also:\n",
    "- create new workspaces with `create_workspace()`\n",
    "- view the list of guests in the workspace with `get_workspace_guests()`\n",
    "- view the list of workspace guest invitations with `get_workspace_invites()`\n",
    "- invite or remove guests from the workspace with `add_workspace_guest()` and `remove_workspace_guest()`\n",
    "- revoke an invitation for a guest with `remove_workspace_invitation()`\n",
    "- view workspace usage and limits with `get_workspace_limits()`\n",
    "- edit a workspace name or channels available with `edit_workspace()` \n",
    "- delete an existing workspace with `delete_workspace()`\n",
    "\n",
    "\n",
    "### Multiple workspaces\n",
    "Similar to being part of multiple organizations, you can be also part of multiple workspaces and there is an easy way to switch between the workspaces you choose to work out of. Get the `workspaceId` from `get_workspaces()` and use `set_workspace()` to switch into it. If you are confused on which workspace you are currently working out of, call `get_workspace()` to get that information."
   ]
  }
 ],
 "metadata": {
  "kernelspec": {
   "display_name": "Python 3",
   "language": "python",
   "name": "python3"
  },
  "language_info": {
   "codemirror_mode": {
    "name": "ipython",
    "version": 3
   },
   "file_extension": ".py",
   "mimetype": "text/x-python",
   "name": "python",
   "nbconvert_exporter": "python",
   "pygments_lexer": "ipython3",
   "version": "3.8.8"
  }
 },
 "nbformat": 4,
 "nbformat_minor": 5
}
