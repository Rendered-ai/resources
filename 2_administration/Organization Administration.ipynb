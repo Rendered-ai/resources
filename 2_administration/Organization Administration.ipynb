{
 "cells": [
  {
   "cell_type": "markdown",
   "id": "fe1d3aef",
   "metadata": {},
   "source": [
    "# Organization Administration\n",
    "\n",
    "Objective: Learn how to manage organizations + members. To follow along, use the `toybox` content code when registering on the Platform or create a new workspace with this code.\n",
    "\n",
    "Reference the latest SDK Documentation at https://sdk.rendered.ai \n",
    "\n",
    "An organization holds many workspaces and is equivalent to the account that your billing information is tied to. A user must either create an organization through the sign up process or be invited into it from a member or administrator. Read through the [Quick Start Guide](https://support.rendered.ai/rd/Quick-Start-Guide.1577779251.html) for more information about terminology."
   ]
  },
  {
   "cell_type": "markdown",
   "id": "5c3f3730",
   "metadata": {},
   "source": [
    "### Get the latest `anatools`"
   ]
  },
  {
   "cell_type": "code",
   "execution_count": null,
   "id": "73defe90",
   "metadata": {},
   "outputs": [],
   "source": [
    "pip install anatools --upgrade"
   ]
  },
  {
   "cell_type": "markdown",
   "id": "faca5644",
   "metadata": {},
   "source": [
    "### Set up imports and log into the SDK\n",
    "These imports are required for this Notebook to run. \n",
    "Enter your credentials at the prompts. Logging in successfully will list the organizations and workspaces you have access to."
   ]
  },
  {
   "cell_type": "code",
   "execution_count": 5,
   "id": "638c333d",
   "metadata": {},
   "outputs": [],
   "source": [
    "from zipfile import ZipFile\n",
    "from matplotlib.pyplot import imshow\n",
    "from matplotlib import pyplot as plt\n",
    "import numpy as np\n",
    "from PIL import Image\n",
    "import glob\n",
    "import json\n",
    "import pprint\n",
    "import time \n",
    "import anatools\n",
    "\n",
    "pp = pprint.PrettyPrinter(indent=4)"
   ]
  },
  {
   "cell_type": "code",
   "execution_count": 1,
   "id": "fb6b48b5",
   "metadata": {},
   "outputs": [
    {
     "name": "stdout",
     "output_type": "stream",
     "text": [
      "Enter your credentials for the Rendered.ai Platform.\n",
      "Email: email@rendered.ai\n",
      "········\n",
      "These are your organizations and workspaces:\n",
      "    User's Organization                          e8af8e7e-60d3-415f-a88d-9f4e191afec4              \n",
      "\tToybox                                   c721696e-648f-4572-a9ca-5dd72f1e8f58              \n",
      "The current workspaces is: c721696e-648f-4572-a9ca-5dd72f1e8f58\n"
     ]
    }
   ],
   "source": [
    "sdk = anatools.client()"
   ]
  },
  {
   "cell_type": "markdown",
   "id": "3b7dafbb",
   "metadata": {},
   "source": [
    "### View Your Organization Data\n",
    "\n",
    "As a **guest** of an organization, you can\n",
    "- get information about the organizations you are in with `get_organizations()`\n",
    "\n",
    "Use `get_organizations()` to view the organizations you have access to and your role."
   ]
  },
  {
   "cell_type": "code",
   "execution_count": 3,
   "id": "3f49b8cd",
   "metadata": {},
   "outputs": [
    {
     "name": "stdout",
     "output_type": "stream",
     "text": [
      "[   {   'name': 'default',\n",
      "        'organizationId': 'e8af8e7e-60d3-415f-a88d-9f4e191afec4',\n",
      "        'role': 'admin'}]\n"
     ]
    }
   ],
   "source": [
    "import pprint\n",
    "pp = pprint.PrettyPrinter(indent=4)\n",
    "\n",
    "orgs = sdk.get_organizations()\n",
    "pp.pprint(orgs)"
   ]
  },
  {
   "cell_type": "markdown",
   "id": "ea07ef1f",
   "metadata": {},
   "source": [
    "As a **member** of an organization, you can do everything a guest can and in addition:\n",
    "- view list of organization members with `get_organization_members()`\n",
    "- invite other members to the organization with `add_organization_member()`\n",
    "- view list of pending invites to the organization with `get_organization_invites()`\n",
    "- remove a pending invite to the organization with `remove_organization_invitation()`"
   ]
  },
  {
   "cell_type": "markdown",
   "id": "7c3bcb0b",
   "metadata": {},
   "source": [
    "Use `get_organization_members()` to view the name, email, role, and userId of all users in your organization."
   ]
  },
  {
   "cell_type": "code",
   "execution_count": 5,
   "id": "aa1e9d82",
   "metadata": {},
   "outputs": [
    {
     "data": {
      "text/plain": [
       "[{'organizationId': 'e8af8e7e-60d3-415f-a88d-9f4e191afec4',\n",
       "  'workspaceId': None,\n",
       "  'userId': 'dzPlWuSaucR5F3wP4JeUazocX5J2',\n",
       "  'email': 'email@rendered.ai',\n",
       "  'name': 'Test User',\n",
       "  'role': 'admin'}]"
      ]
     },
     "execution_count": 5,
     "metadata": {},
     "output_type": "execute_result"
    }
   ],
   "source": [
    "sdk.get_organization_members(organizationId=orgs[0]['organizationId'])"
   ]
  },
  {
   "cell_type": "markdown",
   "id": "ee0a0a9c",
   "metadata": {},
   "source": [
    "As an **admin** of the organization, you can do everything a member can and also:\n",
    "- update a member's role with `edit_organization_member()`\n",
    "- remove a member from the organization with `remove_organization_member()`\n",
    "- update the organization name with `edit_organization()`\n"
   ]
  },
  {
   "cell_type": "markdown",
   "id": "db5d7e04",
   "metadata": {},
   "source": [
    "### Multiple organizations\n",
    "\n",
    "You can be part of multiple organizations and there is an easy way to switch between the organization you choose to work out of. Get the `organizationId` from `get_organizations()` and use `set_organization()` to switch into it. If you are confused on which organization you are currently working out of, use `get_organization()` to obtain that information."
   ]
  }
 ],
 "metadata": {
  "kernelspec": {
   "display_name": "Python 3",
   "language": "python",
   "name": "python3"
  },
  "language_info": {
   "codemirror_mode": {
    "name": "ipython",
    "version": 3
   },
   "file_extension": ".py",
   "mimetype": "text/x-python",
   "name": "python",
   "nbconvert_exporter": "python",
   "pygments_lexer": "ipython3",
   "version": "3.8.8"
  }
 },
 "nbformat": 4,
 "nbformat_minor": 5
}
